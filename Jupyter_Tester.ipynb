{
 "cells": [
  {
   "cell_type": "code",
   "execution_count": 8,
   "id": "57dc96e0",
   "metadata": {},
   "outputs": [
    {
     "name": "stdout",
     "output_type": "stream",
     "text": [
      "{'words': [{'data': [['apple', 'n.', 'The fleshy pome or fruit of a rosaceous tree (Pyrus malus)\\n   cultivated in numberless varieties in the temperate zones.'], ['apple', 'n.', 'Any tree genus Pyrus which has the stalk sunken into the\\n   base of the fruit; an apple tree.'], ['apple', 'n.', 'Any fruit or other vegetable production resembling, or\\n   supposed to resemble, the apple; as, apple of love, or love apple (a\\n   tomato), balsam apple, egg apple, oak apple.'], ['apple', 'n.', 'Anything round like an apple; as, an apple of gold.'], ['apple', 'v. i.', 'To grow like an apple; to bear apples.']], 'status': 'success'}, {'data': [[\"adam's apple\", None, 'See under Adam.'], ['apple', 'n.', 'The fleshy pome or fruit of a rosaceous tree (Pyrus malus)\\n   cultivated in numberless varieties in the temperate zones.'], ['apple', 'n.', 'Any tree genus Pyrus which has the stalk sunken into the\\n   base of the fruit; an apple tree.'], ['apple', 'n.', 'Any fruit or other vegetable production resembling, or\\n   supposed to resemble, the apple; as, apple of love, or love apple (a\\n   tomato), balsam apple, egg apple, oak apple.'], ['apple', 'n.', 'Anything round like an apple; as, an apple of gold.'], ['apple', 'v. i.', 'To grow like an apple; to bear apples.'], ['apple-faced', 'a.', 'Having a round, broad face, like an apple.'], ['apple-jack', 'n.', 'Apple brandy.'], ['apple-john', 'n.', 'A kind of apple which by keeping becomes much withered;\\n   -- called also Johnapple.'], ['apple pie', None, 'A pie made of apples (usually sliced or stewed) with spice\\n   and sugar.'], ['apple-squire', 'n.', 'A pimp; a kept gallant.'], ['chess-apple', 'n.', 'The wild service of Europe (Purus torminalis).'], ['crapple', 'n.', 'A claw.'], ['dapple', 'n.', 'One of the spots on a dappled animal.'], ['dapple', 'a.', 'Alt. of Dappled'], ['dappled', 'a.', 'Marked with spots of different shades of color; spotted;\\n   variegated; as, a dapple horse.'], ['dappled', 'imp. & p. p.', 'of Dapple'], ['dapple', 'v. t.', 'To variegate with spots; to spot.'], ['engrapple', 'v. t. & i.', 'To grapple.'], ['grappled', 'imp. & p. p.', 'of Grapple'], ['grapple', 'v. t.', 'To seize; to lay fast hold of; to attack at close\\n   quarters: as, to grapple an antagonist.'], ['grapple', 'v. t.', 'To fasten, as with a grapple; to fix; to join\\n   indissolubly.'], ['grapple', 'v. i.', \"To use a grapple; to contend in close fight; to attach\\n   one's self as if by a grapple, as in wrestling; to close; to seize one\\n   another.\"], ['grapple', 'v. t.', \"A seizing or seizure; close hug in contest; the\\n   wrestler's hold.\"], ['grapple', 'v. t.', 'An instrument, usually with hinged claws, for seizing\\n   and holding fast to an object; a grab.'], ['grapple', 'v. t.', 'A grappling iron.'], ['grapplement', 'n.', 'A grappling; close fight or embrace.'], ['ingrapple', 'v. t. & i.', 'To seize; to clutch; to grapple.'], ['knapple', 'v.', 'To break off with an abrupt, sharp noise; to bite; to\\n   nibble.'], ['mad-apple', 'n.', 'See Eggplant.'], ['otaheite apple', None, 'The fruit of a Polynesian anacardiaceous tree\\n   (Spondias dulcis), also called vi-apple. It is rather larger than an\\n   apple, and the rind has a flavor of turpentine, but the flesh is said\\n   to taste like pineapples.'], ['otaheite apple', None, 'A West Indian name for a myrtaceous tree (Jambosa\\n   Malaccensis) which bears crimson berries.'], ['pineapple', 'n.', 'A tropical plant (Ananassa sativa); also, its fruit; --\\n   so called from the resemblance of the latter, in shape and external\\n   appearance, to the cone of the pine tree. Its origin is unknown, though\\n   conjectured to be American.'], ['scapple', 'v. t.', 'To work roughly, or shape without finishing, as stone\\n   before leaving the quarry.'], ['scapple', 'v. t.', 'To dress in any way short of fine tooling or rubbing,\\n   as stone.'], ['sea apple', None, 'The fruit of a West Indian palm (Manicaria Plukenetii),\\n   often found floating in the sea.'], ['shellapple', 'n.', 'See Sheldafle.'], ['strapple', 'v. t.', 'To hold or bind with, or as with, a strap; to\\n   entangle.'], ['thrapple', 'n.', 'Windpipe; throttle.'], ['vi-apple', 'n.', 'See Otaheite apple.']], 'status': 'partial'}]}\n"
     ]
    }
   ],
   "source": [
    "import requests, json\n",
    "\n",
    "URL='http://127.0.0.1:5000/'\n",
    "\n",
    "response = requests.get(URL)\n",
    "response.raise_for_status\n",
    "\n",
    "response.content\n",
    "\n",
    "data = response.content.decode('utf-8')\n",
    "data = json.loads(data)\n",
    "data['usage']\n",
    "\n",
    "word = 'apple'\n",
    "response = requests.get(f'{URL}dict?word={word}')\n",
    "\n",
    "data = json.loads(response.content.decode('utf-8'))\n",
    "\n",
    "print(data)\n"
   ]
  }
 ],
 "metadata": {
  "kernelspec": {
   "display_name": "Python 3 (ipykernel)",
   "language": "python",
   "name": "python3"
  },
  "language_info": {
   "codemirror_mode": {
    "name": "ipython",
    "version": 3
   },
   "file_extension": ".py",
   "mimetype": "text/x-python",
   "name": "python",
   "nbconvert_exporter": "python",
   "pygments_lexer": "ipython3",
   "version": "3.9.5"
  }
 },
 "nbformat": 4,
 "nbformat_minor": 5
}
